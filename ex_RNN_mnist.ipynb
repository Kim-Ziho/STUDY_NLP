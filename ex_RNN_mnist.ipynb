{
  "nbformat": 4,
  "nbformat_minor": 0,
  "metadata": {
    "colab": {
      "name": "ex_RNN_mnist.ipynb",
      "provenance": [],
      "collapsed_sections": [],
      "mount_file_id": "18R1s8fPpV4wU3eyq-RHZtp4cS_bUgxCD",
      "authorship_tag": "ABX9TyMG6AkbWctS8I8OsNRhOYx1",
      "include_colab_link": true
    },
    "kernelspec": {
      "name": "python3",
      "display_name": "Python 3"
    },
    "language_info": {
      "name": "python"
    }
  },
  "cells": [
    {
      "cell_type": "markdown",
      "metadata": {
        "id": "view-in-github",
        "colab_type": "text"
      },
      "source": [
        "<a href=\"https://colab.research.google.com/github/Kim-Ziho/STUDY_NLP/blob/main/ex_RNN_mnist.ipynb\" target=\"_parent\"><img src=\"https://colab.research.google.com/assets/colab-badge.svg\" alt=\"Open In Colab\"/></a>"
      ]
    },
    {
      "cell_type": "markdown",
      "metadata": {
        "id": "94b_sqJWRgUk"
      },
      "source": [
        "# 1 라이브러리 임포트"
      ]
    },
    {
      "cell_type": "code",
      "metadata": {
        "id": "K2kRtZJGQY71"
      },
      "source": [
        "import torch\n",
        "import torch.nn as nn\n",
        "import torchvision.datasets as dset\n",
        "import torchvision.transforms as transforms\n",
        "import matplotlib.pyplot as plt\n",
        "from torch.autograd import Variable"
      ],
      "execution_count": 22,
      "outputs": []
    },
    {
      "cell_type": "markdown",
      "metadata": {
        "id": "uD_UfRwhSOWa"
      },
      "source": [
        "# 2. 하이퍼파라미터 셋팅"
      ]
    },
    {
      "cell_type": "code",
      "metadata": {
        "id": "wbW5Dz6PSRSN"
      },
      "source": [
        "# Hyper-parameters \n",
        "# image tensor: (bs, 1, 28, 28)\n",
        "# input tensor: (bs, n, input_size) = (bs, 28, 28)\n",
        "sequence_length = 28\n",
        "input_size = 28\n",
        "hidden_size = 128\n",
        "num_layers = 2\n",
        "\n",
        "num_classes = 10\n",
        "batch_size = 100\n",
        "num_epochs = 2\n",
        "learning_rate = 0.01"
      ],
      "execution_count": 23,
      "outputs": []
    },
    {
      "cell_type": "code",
      "metadata": {
        "id": "_WaarD_TTA6n"
      },
      "source": [
        "# Device configuration\n",
        "device = torch.device('cuda' if torch.cuda.is_available() else 'cpu')"
      ],
      "execution_count": 24,
      "outputs": []
    },
    {
      "cell_type": "markdown",
      "metadata": {
        "id": "bwv-e-JBTRKd"
      },
      "source": [
        "# 3. MNIST train, test dataset 가져오기"
      ]
    },
    {
      "cell_type": "code",
      "metadata": {
        "id": "9y200v1eTQuD"
      },
      "source": [
        "# MNIST dataset\n",
        "mnist_train = dset.MNIST(\"\", train=True, transform=transforms.ToTensor(),\n",
        "                         target_transform=None, download=True)\n",
        "mnist_test = dset.MNIST(\"\", train=False, transform=transforms.ToTensor(),\n",
        "                        target_transform=None, download=True)"
      ],
      "execution_count": 25,
      "outputs": []
    },
    {
      "cell_type": "markdown",
      "metadata": {
        "id": "WvlXZv9DVe5c"
      },
      "source": [
        "# 4. 대략적인 데이터 형태"
      ]
    },
    {
      "cell_type": "code",
      "metadata": {
        "colab": {
          "base_uri": "https://localhost:8080/",
          "height": 351
        },
        "id": "2yttGx5ZTZL4",
        "outputId": "eee53264-ccdf-439d-f2e6-613a092d29b6"
      },
      "source": [
        "print(\"mnist_train 길이:\", len(mnist_train))\n",
        "print(\"mnist_test 길이\", len(mnist_test))\n",
        "\n",
        "# 데이터 하나 형태\n",
        "image, label = mnist_train.__getitem__(0) # 0번째 데이터\n",
        "print(\"image data 형태:\", image.size())\n",
        "print(\"label:\", label)\n",
        "\n",
        "# 그리기\n",
        "img = image.numpy() \n",
        "plt.title(\"label: %d\" %label)\n",
        "plt.imshow(img[0], cmap='gray')\n",
        "plt.show()"
      ],
      "execution_count": 26,
      "outputs": [
        {
          "output_type": "stream",
          "text": [
            "mnist_train 길이: 60000\n",
            "mnist_test 길이 10000\n",
            "image data 형태: torch.Size([1, 28, 28])\n",
            "label: 5\n"
          ],
          "name": "stdout"
        },
        {
          "output_type": "display_data",
          "data": {
            "image/png": "[encoded data removed]",
            "text/plain": [
              "<Figure size 432x288 with 1 Axes>"
            ]
          },
          "metadata": {
            "tags": [],
            "needs_background": "light"
          }
        }
      ]
    },
    {
      "cell_type": "markdown",
      "metadata": {
        "id": "_kbjJzXaWMIk"
      },
      "source": [
        "# 5. 데이터 로드 함수"
      ]
    },
    {
      "cell_type": "code",
      "metadata": {
        "id": "qKgZUXz_WOmu"
      },
      "source": [
        "# Data loader\n",
        "train_loader = torch.utils.data.DataLoader(dataset=mnist_train,\n",
        "                                           batch_size=batch_size,\n",
        "                                           shuffle=True,\n",
        "                                           drop_last=True) # batch_size 나머지는 버리기\n",
        "                        \n",
        "test_loader = torch.utils.data.DataLoader(dataset=mnist_test,\n",
        "                                          batch_size=batch_size,\n",
        "                                          shuffle=False, # test 에서는 shuffle 하지 않음\n",
        "                                          drop_last=True)"
      ],
      "execution_count": 27,
      "outputs": []
    },
    {
      "cell_type": "markdown",
      "metadata": {
        "id": "ZUaAZOTvW1RJ"
      },
      "source": [
        "# 6. 데이터 로드함수 이해하기"
      ]
    },
    {
      "cell_type": "code",
      "metadata": {
        "colab": {
          "base_uri": "https://localhost:8080/",
          "height": 378
        },
        "id": "vFjkXy_cW39m",
        "outputId": "2156830b-c288-4a88-cd51-7d51112e4b08"
      },
      "source": [
        "n = 3 # 샘플로 그려볼 데이터 개수\n",
        "for i, [imgs, labels] in enumerate(test_loader): # batch_size 만큼\n",
        "    if i>1:\n",
        "        break\n",
        "    \n",
        "    print(\"[%d]\" %i)\n",
        "    print(\"한 번에 로드되는 데이터 크기:\", len(imgs))\n",
        "\n",
        "    # 그리기\n",
        "    for j in range(n):\n",
        "        img = imgs[j].numpy() # (1, 28, 28)\n",
        "        img = img.reshape((img.shape[1], img.shape[2])) # (28, 28)\n",
        "        \n",
        "        plt.subplot(1, n, j+1)\n",
        "        plt.imshow(img, cmap='gray')\n",
        "        plt.title(\"label: %d\" %labels[j])\n",
        "    plt.show()"
      ],
      "execution_count": 28,
      "outputs": [
        {
          "output_type": "stream",
          "text": [
            "[0]\n",
            "한 번에 로드되는 데이터 크기: 100\n"
          ],
          "name": "stdout"
        },
        {
          "output_type": "display_data",
          "data": {
            "image/png": "[encoded data removed]",
            "text/plain": [
              "<Figure size 432x288 with 3 Axes>"
            ]
          },
          "metadata": {
            "tags": [],
            "needs_background": "light"
          }
        },
        {
          "output_type": "stream",
          "text": [
            "[1]\n",
            "한 번에 로드되는 데이터 크기: 100\n"
          ],
          "name": "stdout"
        },
        {
          "output_type": "display_data",
          "data": {
            "image/png": "[encoded data removed]",
            "text/plain": [
              "<Figure size 432x288 with 3 Axes>"
            ]
          },
          "metadata": {
            "tags": [],
            "needs_background": "light"
          }
        }
      ]
    },
    {
      "cell_type": "markdown",
      "metadata": {
        "id": "PYFaZDo8YXxB"
      },
      "source": [
        "# 7. 모델 선언"
      ]
    },
    {
      "cell_type": "code",
      "metadata": {
        "id": "0RXuQUkUYZ5Q"
      },
      "source": [
        "# Recurrent neural network (many-to-one)\n",
        "class RNN(nn.Module):\n",
        "    def __init__(self, input_size, hidden_size, num_layers, num_classes):\n",
        "        super(RNN, self).__init__()\n",
        "        self.hidden_size = hidden_size\n",
        "        self.num_layers = num_layers\n",
        "        self.lstm = nn.LSTM(input_size=input_size, hidden_size=hidden_size,\n",
        "                            num_layers=num_layers, batch_first=True)\n",
        "        self.fc = nn.Linear(in_features=hidden_size, out_features=num_classes)\n",
        "\n",
        "    def forward(self, x):\n",
        "        # input tensor: (batch_size, seq_length, input_size)\n",
        "        # x: (100, 28, 28)\n",
        "\n",
        "        # hiddent state tensor: (# of layers, batch_size, hidden_size)\n",
        "        # h: (2, 100, 128)\n",
        "        h0 = torch.zeros(self.num_layers, x.size(0), self.hidden_size).to(device)\n",
        "        c0 = torch.zeros(self.num_layers, x.size(0), self.hidden_size).to(device)\n",
        "\n",
        "        # Forward propagate LSTM\n",
        "        # output tensor: (batch_size, seq_lenth, hidden_size)\n",
        "        # out: (100, 28, 128)\n",
        "\n",
        "        out, _ = self.lstm(x, (h0, c0))\n",
        "\n",
        "        # 28번째 output layer: (bs, hidden_size)\n",
        "        # out[:, -1, :]: (100. 128)\n",
        "\n",
        "        out = self.fc(out[:, -1, :])\n",
        "\n",
        "        # y^: (batch_size, num_classes)\n",
        "        # y_pred: (100, 10)\n",
        "\n",
        "        return out"
      ],
      "execution_count": 29,
      "outputs": []
    },
    {
      "cell_type": "code",
      "metadata": {
        "id": "vbA784VAcltL"
      },
      "source": [
        "model = RNN(input_size, hidden_size, num_layers, num_classes).to(device)"
      ],
      "execution_count": 30,
      "outputs": []
    },
    {
      "cell_type": "code",
      "metadata": {
        "colab": {
          "base_uri": "https://localhost:8080/"
        },
        "id": "yP7VC9ydc-TW",
        "outputId": "a63a3b37-4355-46b5-cb57-b15d3312aa13"
      },
      "source": [
        "def ComputeAccr(dloader, imodel):\n",
        "    correct = 0\n",
        "    total = 0\n",
        "\n",
        "    for j, [imgs, labels] in enumerate(dloader): # batch_size 만큼\n",
        "        # x: (batch_size, 1, img_width, img_height) -> (batch_size, seq_length, input_size)\n",
        "        img = imgs\n",
        "        img = img.reshape(-1, sequence_length, input_size).to(device)\n",
        "\n",
        "        # y: (batch_size, num_classes)\n",
        "        label = labels.to(device)\n",
        "\n",
        "        # Forward prop\n",
        "        output = imodel(img) # (batch_size, num_classes)\n",
        "        _, output_index = torch.max(output, 1) # (batch_size, 1)\n",
        "\n",
        "        total += label.size(0)\n",
        "        correct += (output_index == label).sum().float()\n",
        "    return (100*correct/total).numpy()\n",
        "\n",
        "print(\"Accuracy of Test Data: %.2f\" %ComputeAccr(test_loader, model))"
      ],
      "execution_count": 31,
      "outputs": [
        {
          "output_type": "stream",
          "text": [
            "Accuracy of Test Data: 11.08\n"
          ],
          "name": "stdout"
        }
      ]
    },
    {
      "cell_type": "markdown",
      "metadata": {
        "id": "dcGrXRPOkbij"
      },
      "source": [
        "# 8. loss, optimizer"
      ]
    },
    {
      "cell_type": "code",
      "metadata": {
        "id": "zSTlyVnKkbRE"
      },
      "source": [
        "# Loss and optimizer\n",
        "loss_func = nn.CrossEntropyLoss()\n",
        "optimizer = torch.optim.Adam(model.parameters(), lr=learning_rate)"
      ],
      "execution_count": 32,
      "outputs": []
    },
    {
      "cell_type": "markdown",
      "metadata": {
        "id": "Y5_est0PkstP"
      },
      "source": [
        "# 9. 학습"
      ]
    },
    {
      "cell_type": "code",
      "metadata": {
        "colab": {
          "base_uri": "https://localhost:8080/"
        },
        "id": "IZ0qjnUNksSt",
        "outputId": "3ea83a89-282b-491e-ad42-a2962769eab7"
      },
      "source": [
        "# Train the model\n",
        "total_step = len(train_loader)\n",
        "for epoch in range(num_epochs):\n",
        "    for i, [imgs, labels] in enumerate(train_loader):\n",
        "        # x: (batch_size, 1, img_width, img_height) -> (batch_size, seq_length, input_size)\n",
        "        img = imgs\n",
        "        img = img.reshape(-1, sequence_length, input_size).to(device)\n",
        "\n",
        "        # y: (batch_size, num_classes)\n",
        "        label = labels.to(device)\n",
        "\n",
        "        # Forward prop\n",
        "        outputs = model(img)\n",
        "        loss = loss_func(outputs, label)\n",
        "\n",
        "        # Backward prop & optimize\n",
        "        optimizer.zero_grad()\n",
        "        loss.backward()\n",
        "        optimizer.step()\n",
        "\n",
        "        if (i+1) % 100 == 0:\n",
        "            print('Epoch [{}/{}], Step [{}/{}], Loss: {:.4f}, Accr: {:.2f}'.\n",
        "                  format(epoch+1, num_epochs, \n",
        "                         i+1, total_step,\n",
        "                         loss.item(),\n",
        "                         ComputeAccr(test_loader, model)))"
      ],
      "execution_count": 33,
      "outputs": [
        {
          "output_type": "stream",
          "text": [
            "Epoch [1/2], Step [100/600], Loss: 0.2892, Accr: 85.13\n",
            "Epoch [1/2], Step [200/600], Loss: 0.1574, Accr: 92.92\n",
            "Epoch [1/2], Step [300/600], Loss: 0.1229, Accr: 93.19\n",
            "Epoch [1/2], Step [400/600], Loss: 0.2608, Accr: 96.41\n",
            "Epoch [1/2], Step [500/600], Loss: 0.0640, Accr: 96.28\n",
            "Epoch [1/2], Step [600/600], Loss: 0.1249, Accr: 96.73\n",
            "Epoch [2/2], Step [100/600], Loss: 0.0513, Accr: 97.21\n",
            "Epoch [2/2], Step [200/600], Loss: 0.0936, Accr: 97.17\n",
            "Epoch [2/2], Step [300/600], Loss: 0.1260, Accr: 97.33\n",
            "Epoch [2/2], Step [400/600], Loss: 0.1725, Accr: 96.83\n",
            "Epoch [2/2], Step [500/600], Loss: 0.2180, Accr: 96.77\n",
            "Epoch [2/2], Step [600/600], Loss: 0.1186, Accr: 97.33\n"
          ],
          "name": "stdout"
        }
      ]
    },
    {
      "cell_type": "markdown",
      "metadata": {
        "id": "HExJ_shCpApH"
      },
      "source": [
        "# 10. 테스트"
      ]
    },
    {
      "cell_type": "code",
      "metadata": {
        "colab": {
          "base_uri": "https://localhost:8080/"
        },
        "id": "Y0WIoyfDpBAN",
        "outputId": "08a7f154-d21b-4db2-8411-53352d9c5501"
      },
      "source": [
        "print(\"Accuracy of Test Data: %.2f\" %ComputeAccr(test_loader, model))"
      ],
      "execution_count": 34,
      "outputs": [
        {
          "output_type": "stream",
          "text": [
            "Accuracy of Test Data: 97.33\n"
          ],
          "name": "stdout"
        }
      ]
    },
    {
      "cell_type": "markdown",
      "metadata": {
        "id": "1NJ45cfmp9lY"
      },
      "source": [
        "# 11. 학습된 파라미터 저장"
      ]
    },
    {
      "cell_type": "code",
      "metadata": {
        "id": "H4nPPsVGp9Rz"
      },
      "source": [
        "netname = 'drive/MyDrive/nets/rnn_mnist_weight.pkl'\n",
        "torch.save(model, netname)"
      ],
      "execution_count": 36,
      "outputs": []
    },
    {
      "cell_type": "markdown",
      "metadata": {
        "id": "TmwLIn7psejv"
      },
      "source": [
        "# 12. 학습된 파라미터 로드"
      ]
    },
    {
      "cell_type": "code",
      "metadata": {
        "id": "liWFCX_1se9c"
      },
      "source": [
        "netname = 'drive/MyDrive/nets/rnn_mnist_weight.pkl'\n",
        "model = torch.load(netname)"
      ],
      "execution_count": 39,
      "outputs": []
    },
    {
      "cell_type": "code",
      "metadata": {
        "colab": {
          "base_uri": "https://localhost:8080/"
        },
        "id": "0oIK0XMUtvUo",
        "outputId": "78e75919-d5cc-41a0-d051-e09ebc24ba76"
      },
      "source": [
        "print(\"Accuracy of Test Data: %.2f\" %ComputeAccr(test_loader, model))"
      ],
      "execution_count": 41,
      "outputs": [
        {
          "output_type": "stream",
          "text": [
            "Accuracy of Test Data: 97.33\n"
          ],
          "name": "stdout"
        }
      ]
    }
  ]
}