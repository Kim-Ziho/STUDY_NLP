{
  "nbformat": 4,
  "nbformat_minor": 0,
  "metadata": {
    "colab": {
      "name": "ex.py36.ipynb",
      "provenance": [],
      "collapsed_sections": [],
      "authorship_tag": "ABX9TyOzMODhO9Wb0klRohw29/D5",
      "include_colab_link": true
    },
    "kernelspec": {
      "name": "python3",
      "display_name": "Python 3"
    },
    "language_info": {
      "name": "python"
    },
    "accelerator": "GPU"
  },
  "cells": [
    {
      "cell_type": "markdown",
      "metadata": {
        "id": "view-in-github",
        "colab_type": "text"
      },
      "source": [
        "<a href=\"https://colab.research.google.com/github/Kim-Ziho/STUDY_NLP/blob/main/ex_py36.ipynb\" target=\"_parent\"><img src=\"https://colab.research.google.com/assets/colab-badge.svg\" alt=\"Open In Colab\"/></a>"
      ]
    },
    {
      "cell_type": "code",
      "metadata": {
        "colab": {
          "base_uri": "https://localhost:8080/"
        },
        "id": "Fsmoz2c12rfs",
        "outputId": "5bfd1fe7-07ac-424d-e191-cd5caef6c790"
      },
      "source": [
        "print(\"Hello, world\")\n",
        "\n",
        "# integer\n",
        "x = 3\n",
        "print(\"정수: %01d, %02d, %3d, %04d, %05d\" % (x,x,x,x,x))\n",
        "\n",
        "# float\n",
        "x = 256.123\n",
        "print(\"실수: %.01f, %.1f, %.2f\" % (x,x,x))\n",
        "\n",
        "# string\n",
        "x = \"Hello, world\"\n",
        "print(\"문자열: [%s]\" % (x))"
      ],
      "execution_count": null,
      "outputs": [
        {
          "output_type": "stream",
          "text": [
            "Hello, world\n",
            "정수: 3, 03,   3, 0003, 00003\n",
            "실수: 256.1, 256.1, 256.12\n",
            "문자열: [Hello, world]\n"
          ],
          "name": "stdout"
        }
      ]
    },
    {
      "cell_type": "code",
      "metadata": {
        "id": "X2JOMXFK3bfw"
      },
      "source": [
        "import torch"
      ],
      "execution_count": null,
      "outputs": []
    },
    {
      "cell_type": "code",
      "metadata": {
        "id": "YkgXavQd5L0C"
      },
      "source": [
        "def print_val(x):\n",
        "    print(\"type: \", type(x))\n",
        "    print(\"dtype: \", x.dtype)\n",
        "    print(\"Shape: \", x.shape)\n",
        "    print(\"값:\\n\", x, sep='')"
      ],
      "execution_count": null,
      "outputs": []
    },
    {
      "cell_type": "code",
      "metadata": {
        "colab": {
          "base_uri": "https://localhost:8080/"
        },
        "id": "9CHbGq_45LhO",
        "outputId": "ad4676b9-d66f-43f5-8efb-136274eb40f5"
      },
      "source": [
        "x = torch.rand(2,3,2) \n",
        "print_val(x)\n",
        "\n",
        "x = torch.rand(2,3)\n",
        "print_val(x)"
      ],
      "execution_count": null,
      "outputs": [
        {
          "output_type": "stream",
          "text": [
            "type:  <class 'torch.Tensor'>\n",
            "dtype:  torch.float32\n",
            "Shape:  torch.Size([2, 3, 2])\n",
            "값:\n",
            "tensor([[[0.0182, 0.0702],\n",
            "         [0.3408, 0.1457],\n",
            "         [0.7036, 0.0037]],\n",
            "\n",
            "        [[0.9347, 0.4111],\n",
            "         [0.7479, 0.4666],\n",
            "         [0.3337, 0.8492]]])\n",
            "type:  <class 'torch.Tensor'>\n",
            "dtype:  torch.float32\n",
            "Shape:  torch.Size([2, 3])\n",
            "값:\n",
            "tensor([[0.0453, 0.0647, 0.3201],\n",
            "        [0.9550, 0.0084, 0.4155]])\n"
          ],
          "name": "stdout"
        }
      ]
    },
    {
      "cell_type": "code",
      "metadata": {
        "colab": {
          "base_uri": "https://localhost:8080/"
        },
        "id": "GgC0BFPx6RD2",
        "outputId": "6d6b8270-8504-476f-98aa-d6eb6137c63f"
      },
      "source": [
        "x = torch.randperm(4)\n",
        "print_val(x)"
      ],
      "execution_count": null,
      "outputs": [
        {
          "output_type": "stream",
          "text": [
            "type:  <class 'torch.Tensor'>\n",
            "dtype:  torch.int64\n",
            "Shape:  torch.Size([4])\n",
            "값:\n",
            "tensor([2, 1, 3, 0])\n"
          ],
          "name": "stdout"
        }
      ]
    },
    {
      "cell_type": "code",
      "metadata": {
        "colab": {
          "base_uri": "https://localhost:8080/"
        },
        "id": "Tebz4oIb6da1",
        "outputId": "11518c99-55c2-4e0a-ce11-3b172f913bd3"
      },
      "source": [
        "x = torch.arange(0, 10, step=0.5)\n",
        "print_val(x)"
      ],
      "execution_count": null,
      "outputs": [
        {
          "output_type": "stream",
          "text": [
            "type:  <class 'torch.Tensor'>\n",
            "dtype:  torch.float32\n",
            "Shape:  torch.Size([20])\n",
            "값:\n",
            "tensor([0.0000, 0.5000, 1.0000, 1.5000, 2.0000, 2.5000, 3.0000, 3.5000, 4.0000,\n",
            "        4.5000, 5.0000, 5.5000, 6.0000, 6.5000, 7.0000, 7.5000, 8.0000, 8.5000,\n",
            "        9.0000, 9.5000])\n"
          ],
          "name": "stdout"
        }
      ]
    },
    {
      "cell_type": "code",
      "metadata": {
        "colab": {
          "base_uri": "https://localhost:8080/"
        },
        "id": "DSs0DXVW7AJV",
        "outputId": "40fd2823-dade-45ad-a4bb-b19c7a8a357e"
      },
      "source": [
        "print_val(torch.ones(3,4))\n",
        "print_val(torch.zeros(3,4))"
      ],
      "execution_count": null,
      "outputs": [
        {
          "output_type": "stream",
          "text": [
            "type:  <class 'torch.Tensor'>\n",
            "dtype:  torch.float32\n",
            "Shape:  torch.Size([3, 4])\n",
            "값:\n",
            "tensor([[1., 1., 1., 1.],\n",
            "        [1., 1., 1., 1.],\n",
            "        [1., 1., 1., 1.]])\n",
            "type:  <class 'torch.Tensor'>\n",
            "dtype:  torch.float32\n",
            "Shape:  torch.Size([3, 4])\n",
            "값:\n",
            "tensor([[0., 0., 0., 0.],\n",
            "        [0., 0., 0., 0.],\n",
            "        [0., 0., 0., 0.]])\n"
          ],
          "name": "stdout"
        }
      ]
    },
    {
      "cell_type": "code",
      "metadata": {
        "colab": {
          "base_uri": "https://localhost:8080/"
        },
        "id": "zuEmp5ev7Jes",
        "outputId": "2d9364be-509d-43cb-d659-86b42a70f848"
      },
      "source": [
        "print_val(torch.Tensor(2, 4))"
      ],
      "execution_count": null,
      "outputs": [
        {
          "output_type": "stream",
          "text": [
            "type:  <class 'torch.Tensor'>\n",
            "dtype:  torch.float32\n",
            "Shape:  torch.Size([2, 4])\n",
            "값:\n",
            "tensor([[4.8614e+17, 3.0771e-41, 3.7835e-44, 0.0000e+00],\n",
            "        [       nan, 6.4460e-44, 1.3733e-14, 6.4069e+02]])\n"
          ],
          "name": "stdout"
        }
      ]
    },
    {
      "cell_type": "code",
      "metadata": {
        "colab": {
          "base_uri": "https://localhost:8080/"
        },
        "id": "soO9cKm37jyF",
        "outputId": "63300132-2875-49a5-c741-23db1d4c2819"
      },
      "source": [
        "print_val(torch.Tensor([2, 3]))"
      ],
      "execution_count": null,
      "outputs": [
        {
          "output_type": "stream",
          "text": [
            "type:  <class 'torch.Tensor'>\n",
            "dtype:  torch.float32\n",
            "Shape:  torch.Size([2])\n",
            "값:\n",
            "tensor([2., 3.])\n"
          ],
          "name": "stdout"
        }
      ]
    },
    {
      "cell_type": "markdown",
      "metadata": {
        "id": "HipPJP2x_qNi"
      },
      "source": [
        "# MNIST"
      ]
    },
    {
      "cell_type": "code",
      "metadata": {
        "id": "I49hhBSy_oME"
      },
      "source": [
        "import torchvision.datasets as dset\n",
        "import torchvision.transforms as transforms\n",
        "from torch.utils.data import DataLoader\n",
        "from torch.autograd import Variable\n",
        "import matplotlib.pyplot as plt\n",
        "%matplotlib inline"
      ],
      "execution_count": null,
      "outputs": []
    },
    {
      "cell_type": "code",
      "metadata": {
        "id": "__NIwD9IAYqa"
      },
      "source": [
        "mnist_train = dset.MNIST(\"\", train=True, transform=transforms.ToTensor(),\n",
        "                         target_transform=None, download=True)\n",
        "mnist_test = dset.MNIST(\"\", train=False, transform=transforms.ToTensor(),\n",
        "                         target_transform=None, download=True)"
      ],
      "execution_count": null,
      "outputs": []
    },
    {
      "cell_type": "code",
      "metadata": {
        "colab": {
          "base_uri": "https://localhost:8080/"
        },
        "id": "ZPWP2Z4BBDgJ",
        "outputId": "cedbb2df-98e0-4635-b39d-4a194886c2b8"
      },
      "source": [
        "image, label = mnist_train.__getitem__(0)\n",
        "print(image.size(), label)"
      ],
      "execution_count": null,
      "outputs": [
        {
          "output_type": "stream",
          "text": [
            "torch.Size([1, 28, 28]) 5\n"
          ],
          "name": "stdout"
        }
      ]
    },
    {
      "cell_type": "code",
      "metadata": {
        "colab": {
          "base_uri": "https://localhost:8080/"
        },
        "id": "4xb1hJJoBfew",
        "outputId": "fef1be2a-75ec-4d7d-921c-f2532841154f"
      },
      "source": [
        "image, label = mnist_train[1]\n",
        "print(image.size(), label)"
      ],
      "execution_count": null,
      "outputs": [
        {
          "output_type": "stream",
          "text": [
            "torch.Size([1, 28, 28]) 0\n"
          ],
          "name": "stdout"
        }
      ]
    },
    {
      "cell_type": "code",
      "metadata": {
        "colab": {
          "base_uri": "https://localhost:8080/"
        },
        "id": "khj__Je2BpGA",
        "outputId": "df355c69-e1ad-4047-c698-af59f9eba823"
      },
      "source": [
        "print(mnist_train.__len__())\n",
        "print(\"mnist_train 길이:\", len(mnist_train))\n",
        "print(\"mnist_test 길이:\", len(mnist_test))"
      ],
      "execution_count": null,
      "outputs": [
        {
          "output_type": "stream",
          "text": [
            "60000\n",
            "mnist_train 길이: 60000\n",
            "mnist_test 길이: 10000\n"
          ],
          "name": "stdout"
        }
      ]
    },
    {
      "cell_type": "code",
      "metadata": {
        "colab": {
          "base_uri": "https://localhost:8080/"
        },
        "id": "8cDOfYlcCQLv",
        "outputId": "ee94f061-874e-418f-ffd7-6f15d16445fa"
      },
      "source": [
        "print(mnist_train[0][1])\n",
        "print(mnist_train[0][0].size())"
      ],
      "execution_count": null,
      "outputs": [
        {
          "output_type": "stream",
          "text": [
            "5\n",
            "torch.Size([1, 28, 28])\n"
          ],
          "name": "stdout"
        }
      ]
    },
    {
      "cell_type": "code",
      "metadata": {
        "id": "F8LX4GO2DC1E"
      },
      "source": [
        "for i in range(3):\n",
        "    img = mnist_train[i][0].numpy()\n",
        "    plt.title(\"lable: %d\" % mnist_train[i][1])\n",
        "    plt.imshow(img[0], cmap='gray')\n",
        "    plt.show()"
      ],
      "execution_count": null,
      "outputs": []
    },
    {
      "cell_type": "code",
      "metadata": {
        "id": "_gEL8tnWG3ah"
      },
      "source": [
        "batch_size = 16"
      ],
      "execution_count": null,
      "outputs": []
    },
    {
      "cell_type": "code",
      "metadata": {
        "id": "-dHStHQzG6Gq"
      },
      "source": [
        "train_loader = torch.utils.data.DataLoader(list(mnist_train)[:batch_size*100],\n",
        "                                           batch_size=batch_size, shuffle=True,\n",
        "                                           num_workers=2, drop_last=True)\n",
        "test_loader = torch.utils.data.DataLoader((mnist_test), \n",
        "                                           batch_size=batch_size, shuffle=True,\n",
        "                                           num_workers=2, drop_last=True)"
      ],
      "execution_count": null,
      "outputs": []
    },
    {
      "cell_type": "code",
      "metadata": {
        "id": "MbKWblBALI3s",
        "colab": {
          "base_uri": "https://localhost:8080/",
          "height": 1000
        },
        "outputId": "dc77740a-77b4-4f2d-f45a-7c2355751edd"
      },
      "source": [
        "n = 3\n",
        "for i, [imgs, labels] in enumerate(test_loader):\n",
        "    if i > 5:\n",
        "        break\n",
        "\n",
        "    print(\"[%d]\" %i)\n",
        "    print(\"한 번에 로드되는 데이터 크기:\", len(imgs))\n",
        "    \n",
        "    x = Variable(imgs).cuda()\n",
        "    x = x.reshape((x.shape[0], x.shape[2], x.shape[3]))\n",
        "    y_ = Variable(labels).cuda()\n",
        "\n",
        "    print(x.shape)\n",
        "    print(y_.shape)\n",
        "\n",
        "    for j in range(n):\n",
        "        img = imgs[j].numpy()\n",
        "        img = img.reshape((img.shape[1], img.shape[2]))\n",
        "\n",
        "        plt.subplot(1, n, j+1)\n",
        "        plt.imshow(img, cmap='gray')\n",
        "        plt.title(\"label: %d\" % labels[j])\n",
        "    plt.show()"
      ],
      "execution_count": 97,
      "outputs": [
        {
          "output_type": "stream",
          "text": [
            "[0]\n",
            "한 번에 로드되는 데이터 크기: 16\n",
            "torch.Size([16, 28, 28])\n",
            "torch.Size([16])\n"
          ],
          "name": "stdout"
        },
        {
          "output_type": "display_data",
          "data": {
            "image/png": "[encoded data removed]",
            "text/plain": [
              "<Figure size 432x288 with 3 Axes>"
            ]
          },
          "metadata": {
            "tags": [],
            "needs_background": "light"
          }
        },
        {
          "output_type": "stream",
          "text": [
            "[1]\n",
            "한 번에 로드되는 데이터 크기: 16\n",
            "torch.Size([16, 28, 28])\n",
            "torch.Size([16])\n"
          ],
          "name": "stdout"
        },
        {
          "output_type": "display_data",
          "data": {
            "image/png": "[encoded data removed]",
            "text/plain": [
              "<Figure size 432x288 with 3 Axes>"
            ]
          },
          "metadata": {
            "tags": [],
            "needs_background": "light"
          }
        },
        {
          "output_type": "stream",
          "text": [
            "[2]\n",
            "한 번에 로드되는 데이터 크기: 16\n",
            "torch.Size([16, 28, 28])\n",
            "torch.Size([16])\n"
          ],
          "name": "stdout"
        },
        {
          "output_type": "display_data",
          "data": {
            "image/png": "[encoded data removed]",
            "text/plain": [
              "<Figure size 432x288 with 3 Axes>"
            ]
          },
          "metadata": {
            "tags": [],
            "needs_background": "light"
          }
        },
        {
          "output_type": "stream",
          "text": [
            "[3]\n",
            "한 번에 로드되는 데이터 크기: 16\n",
            "torch.Size([16, 28, 28])\n",
            "torch.Size([16])\n"
          ],
          "name": "stdout"
        },
        {
          "output_type": "display_data",
          "data": {
            "image/png": "[encoded data removed]",
            "text/plain": [
              "<Figure size 432x288 with 3 Axes>"
            ]
          },
          "metadata": {
            "tags": [],
            "needs_background": "light"
          }
        },
        {
          "output_type": "stream",
          "text": [
            "[4]\n",
            "한 번에 로드되는 데이터 크기: 16\n",
            "torch.Size([16, 28, 28])\n",
            "torch.Size([16])\n"
          ],
          "name": "stdout"
        },
        {
          "output_type": "display_data",
          "data": {
            "image/png": "[encoded data removed]",
            "text/plain": [
              "<Figure size 432x288 with 3 Axes>"
            ]
          },
          "metadata": {
            "tags": [],
            "needs_background": "light"
          }
        },
        {
          "output_type": "stream",
          "text": [
            "[5]\n",
            "한 번에 로드되는 데이터 크기: 16\n",
            "torch.Size([16, 28, 28])\n",
            "torch.Size([16])\n"
          ],
          "name": "stdout"
        },
        {
          "output_type": "display_data",
          "data": {
            "image/png": "[encoded data removed]",
            "text/plain": [
              "<Figure size 432x288 with 3 Axes>"
            ]
          },
          "metadata": {
            "tags": [],
            "needs_background": "light"
          }
        }
      ]
    },
    {
      "cell_type": "code",
      "metadata": {
        "id": "8xP7D9u-LP5u"
      },
      "source": [
        ""
      ],
      "execution_count": null,
      "outputs": []
    }
  ]
}